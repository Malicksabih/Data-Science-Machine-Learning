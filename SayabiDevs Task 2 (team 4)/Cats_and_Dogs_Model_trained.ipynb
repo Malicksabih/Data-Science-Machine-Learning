{
 "cells": [
  {
   "cell_type": "code",
   "execution_count": 1,
   "id": "59541cfb",
   "metadata": {},
   "outputs": [],
   "source": [
    "import os\n",
    "import tensorflow as tf\n",
    "import numpy as np\n",
    "import cv2\n",
    "from tensorflow.keras.applications import MobileNetV2\n",
    "from tensorflow.keras.preprocessing import image\n",
    "from tensorflow.keras.applications.mobilenet_v2 import preprocess_input, decode_predictions\n",
    "from tensorflow.keras.layers import Dense, GlobalAveragePooling2D\n",
    "from tensorflow.keras.models import Model\n",
    "import matplotlib.pyplot as plt\n",
    "import opendatasets as od\n",
    "from tensorflow.keras.utils import to_categorical\n",
    "from sklearn.preprocessing import LabelEncoder"
   ]
  },
  {
   "cell_type": "markdown",
   "id": "2fd8f535",
   "metadata": {},
   "source": [
    "# Loading the dataset"
   ]
  },
  {
   "cell_type": "markdown",
   "id": "aa093b72",
   "metadata": {},
   "source": [
    "We are using the popular Cats and Dogs Dataset, this dataset has 2 classes.\n",
    "\n",
    "After loading the dataset we will set the hyperparameters batch size and epoch numbers and will set the image size to 100x100"
   ]
  },
  {
   "cell_type": "code",
   "execution_count": 2,
   "id": "81639efd",
   "metadata": {},
   "outputs": [],
   "source": [
    "data_dir = r'D:\\cats_vs_dogs'\n",
    "img_size = (100, 100)\n",
    "batch_size = 8\n",
    "num_of_classes = 2\n",
    "num_of_epochs = 10"
   ]
  },
  {
   "cell_type": "markdown",
   "id": "6e6c55f7",
   "metadata": {},
   "source": [
    "# Initializing data augmentation and preprocessing\n",
    "\n",
    "initilializing augmentation using data generator."
   ]
  },
  {
   "cell_type": "code",
   "execution_count": 3,
   "id": "8596f586",
   "metadata": {},
   "outputs": [],
   "source": [
    "from tensorflow.keras.preprocessing.image import ImageDataGenerator"
   ]
  },
  {
   "cell_type": "code",
   "execution_count": 4,
   "id": "50298f92",
   "metadata": {},
   "outputs": [],
   "source": [
    "datagen = ImageDataGenerator(rescale = 1.0/255, rotation_range = 20, width_shift_range = 0.2, height_shift_range = 0.2,\n",
    "                            horizontal_flip = True)"
   ]
  },
  {
   "cell_type": "markdown",
   "id": "175fb5e5",
   "metadata": {},
   "source": [
    "# Loading Images and their respective labels"
   ]
  },
  {
   "cell_type": "code",
   "execution_count": 5,
   "id": "488ade99",
   "metadata": {},
   "outputs": [
    {
     "name": "stderr",
     "output_type": "stream",
     "text": [
      "C:\\Users\\anasj\\anaconda3\\lib\\site-packages\\PIL\\TiffImagePlugin.py:858: UserWarning: Truncated File Read\n",
      "  warnings.warn(str(msg))\n"
     ]
    }
   ],
   "source": [
    "images = []\n",
    "labels = []\n",
    "\n",
    "# Iterate through class directories\n",
    "for class_name in os.listdir(data_dir):\n",
    "    class_dir = os.path.join(data_dir, class_name)\n",
    "    if os.path.isdir(class_dir):\n",
    "        class_label = class_name  # Use class name as label\n",
    "        for img_filename in os.listdir(class_dir):\n",
    "            img_path = os.path.join(class_dir, img_filename)\n",
    "            img = tf.keras.preprocessing.image.load_img(img_path, target_size=img_size)\n",
    "            img_array = tf.keras.preprocessing.image.img_to_array(img)\n",
    "            images.append(img_array)\n",
    "            labels.append(class_label)"
   ]
  },
  {
   "cell_type": "markdown",
   "id": "590e8346",
   "metadata": {},
   "source": [
    "# Converting to Numpy Arrays"
   ]
  },
  {
   "cell_type": "code",
   "execution_count": 6,
   "id": "e13de0cc",
   "metadata": {},
   "outputs": [],
   "source": [
    "images = np.array(images)\n",
    "labels = np.array(labels)"
   ]
  },
  {
   "cell_type": "code",
   "execution_count": 7,
   "id": "266def02",
   "metadata": {},
   "outputs": [
    {
     "data": {
      "text/plain": [
       "24998"
      ]
     },
     "execution_count": 7,
     "metadata": {},
     "output_type": "execute_result"
    }
   ],
   "source": [
    "len(labels) #total images in dataset"
   ]
  },
  {
   "cell_type": "code",
   "execution_count": 8,
   "id": "9deaea90",
   "metadata": {},
   "outputs": [],
   "source": [
    "from sklearn.model_selection import train_test_split"
   ]
  },
  {
   "cell_type": "markdown",
   "id": "e9667497",
   "metadata": {},
   "source": [
    "# Splitting Dataset into train, test and validation sets"
   ]
  },
  {
   "cell_type": "code",
   "execution_count": 9,
   "id": "e28e17cc",
   "metadata": {},
   "outputs": [],
   "source": [
    "# Splitting Dataset into train, test and validation sets\n",
    "# First split into train and temporary sets\n",
    "x_train, x_temp, y_train, y_temp = train_test_split(images, labels, test_size=0.3, random_state=42)\n",
    "# Second split: splitting temporary set into validation and test sets\n",
    "x_valid, x_test, y_valid, y_test = train_test_split(x_temp, y_temp, test_size=0.5, random_state=42)\n",
    "\n",
    "# Convert labels to numerical values using LabelEncoder\n",
    "label_encoder = LabelEncoder()\n",
    "y_train_numerical = label_encoder.fit_transform(y_train)\n",
    "y_valid_numerical = label_encoder.transform(y_valid)\n",
    "\n",
    "# Convert numerical labels to one-hot encoded format\n",
    "y_train_encoded = to_categorical(y_train_numerical, num_classes=num_of_classes)\n",
    "y_valid_encoded = to_categorical(y_valid_numerical, num_classes=num_of_classes)\n",
    "\n",
    "# Generate batches and implement data augmentation initialized earlier\n",
    "train_gen = datagen.flow(x_train, y_train_encoded, batch_size=batch_size)\n",
    "valid_gen = datagen.flow(x_valid, y_valid_encoded, batch_size=batch_size)\n",
    "\n"
   ]
  },
  {
   "cell_type": "markdown",
   "id": "aeaaace3",
   "metadata": {},
   "source": [
    "# Loading a Pre-trained model\n",
    "\n",
    "Loading MobileNetV2 model\n",
    "By using the initial layers of the pre-trained model we are implementing \"TRANSFER LEARNING\" as we are rejecting the top layers\n",
    "which include the fully connected layers of MobileNetV2 trained on ImageNet dataset. In simpler terms we are taking only the architecture and the weights of the said model."
   ]
  },
  {
   "cell_type": "code",
   "execution_count": 10,
   "id": "adea1fdb",
   "metadata": {},
   "outputs": [
    {
     "name": "stdout",
     "output_type": "stream",
     "text": [
      "WARNING:tensorflow:`input_shape` is undefined or non-square, or `rows` is not in [96, 128, 160, 192, 224]. Weights for input shape (224, 224) will be loaded as the default.\n"
     ]
    }
   ],
   "source": [
    "# Load a pre-trained MobileNetV2 model\n",
    "base_model = MobileNetV2(input_shape=(100, 100, 3), include_top=False)\n",
    "x = base_model.output\n",
    "x = GlobalAveragePooling2D()(x)\n",
    "x = Dense(1024, activation='relu')(x)\n",
    "predictions = Dense(num_of_classes, activation='softmax')(x)\n",
    "model = Model(inputs=base_model.input, outputs=predictions)\n",
    "\n",
    "# Freeze layers of the base model\n",
    "for layer in base_model.layers:\n",
    "    layer.trainable = False\n",
    "\n",
    "# Compile the model\n",
    "model.compile(optimizer='adam', loss='categorical_crossentropy', metrics=['accuracy'])"
   ]
  },
  {
   "cell_type": "markdown",
   "id": "bb1ee923",
   "metadata": {},
   "source": [
    "# Training the model"
   ]
  },
  {
   "cell_type": "code",
   "execution_count": 11,
   "id": "32fc1993",
   "metadata": {},
   "outputs": [
    {
     "name": "stdout",
     "output_type": "stream",
     "text": [
      "Epoch 1/10\n",
      "2187/2187 [==============================] - 84s 38ms/step - loss: 0.3014 - accuracy: 0.8735 - val_loss: 0.2649 - val_accuracy: 0.8878\n",
      "Epoch 2/10\n",
      "2187/2187 [==============================] - 82s 37ms/step - loss: 0.2420 - accuracy: 0.8947 - val_loss: 0.2247 - val_accuracy: 0.8942\n",
      "Epoch 3/10\n",
      "2187/2187 [==============================] - 84s 38ms/step - loss: 0.2357 - accuracy: 0.8993 - val_loss: 0.2487 - val_accuracy: 0.8876\n",
      "Epoch 4/10\n",
      "2187/2187 [==============================] - 86s 39ms/step - loss: 0.2295 - accuracy: 0.9014 - val_loss: 0.2226 - val_accuracy: 0.9076\n",
      "Epoch 5/10\n",
      "2187/2187 [==============================] - 88s 40ms/step - loss: 0.2254 - accuracy: 0.9009 - val_loss: 0.2357 - val_accuracy: 0.9062\n",
      "Epoch 6/10\n",
      "2187/2187 [==============================] - 85s 39ms/step - loss: 0.2128 - accuracy: 0.9091 - val_loss: 0.2305 - val_accuracy: 0.8985\n",
      "Epoch 7/10\n",
      "2187/2187 [==============================] - 87s 40ms/step - loss: 0.2122 - accuracy: 0.9087 - val_loss: 0.2185 - val_accuracy: 0.9092\n",
      "Epoch 8/10\n",
      "2187/2187 [==============================] - 88s 40ms/step - loss: 0.2109 - accuracy: 0.9101 - val_loss: 0.2249 - val_accuracy: 0.9065\n",
      "Epoch 9/10\n",
      "2187/2187 [==============================] - 87s 40ms/step - loss: 0.2016 - accuracy: 0.9134 - val_loss: 0.2131 - val_accuracy: 0.9095\n",
      "Epoch 10/10\n",
      "2187/2187 [==============================] - 87s 40ms/step - loss: 0.2023 - accuracy: 0.9134 - val_loss: 0.2133 - val_accuracy: 0.9087\n"
     ]
    }
   ],
   "source": [
    "# Train the model\n",
    "history = model.fit(\n",
    "    train_gen,\n",
    "    epochs=num_of_epochs,\n",
    "    steps_per_epoch=len(x_train) // batch_size,\n",
    "    validation_data=valid_gen,\n",
    "    validation_steps=len(x_valid) // batch_size\n",
    ")"
   ]
  },
  {
   "cell_type": "markdown",
   "id": "684bf063",
   "metadata": {},
   "source": [
    "# Plotting training and validation loss"
   ]
  },
  {
   "cell_type": "code",
   "execution_count": 12,
   "id": "219ecc1e",
   "metadata": {},
   "outputs": [
    {
     "data": {
      "image/png": "[encoded data removed]",
      "text/plain": [
       "<Figure size 640x480 with 1 Axes>"
      ]
     },
     "metadata": {},
     "output_type": "display_data"
    }
   ],
   "source": [
    "# Plot Training and Validation Loss Curves\n",
    "plt.plot(history.history['loss'], label='train')\n",
    "plt.plot(history.history['val_loss'], label='validation')\n",
    "plt.title('Training and Validation Loss')\n",
    "plt.xlabel('Epoch')\n",
    "plt.ylabel('Loss')\n",
    "plt.legend()\n",
    "plt.show()"
   ]
  },
  {
   "cell_type": "code",
   "execution_count": 13,
   "id": "fa0d6cc7",
   "metadata": {},
   "outputs": [
    {
     "name": "stdout",
     "output_type": "stream",
     "text": [
      "Found 24998 images belonging to 2 classes.\n"
     ]
    }
   ],
   "source": [
    "# Evaluate the model on the test set\n",
    "test_generator = datagen.flow_from_directory(\n",
    "    data_dir,\n",
    "    target_size=img_size,\n",
    "    batch_size=batch_size,\n",
    "    class_mode='categorical',\n",
    "    shuffle=False  # Ensures consistent order for predictions\n",
    ")"
   ]
  },
  {
   "cell_type": "code",
   "execution_count": 14,
   "id": "b039efc9",
   "metadata": {},
   "outputs": [
    {
     "name": "stdout",
     "output_type": "stream",
     "text": [
      "2995/3125 [===========================>..] - ETA: 5s"
     ]
    },
    {
     "name": "stderr",
     "output_type": "stream",
     "text": [
      "C:\\Users\\anasj\\anaconda3\\lib\\site-packages\\PIL\\TiffImagePlugin.py:858: UserWarning: Truncated File Read\n",
      "  warnings.warn(str(msg))\n"
     ]
    },
    {
     "name": "stdout",
     "output_type": "stream",
     "text": [
      "3125/3125 [==============================] - 125s 40ms/step\n"
     ]
    }
   ],
   "source": [
    "y_true = test_generator.classes\n",
    "y_pred = model.predict(test_generator)\n",
    "y_pred_classes = np.argmax(y_pred, axis=1)"
   ]
  },
  {
   "cell_type": "markdown",
   "id": "7cc256b6",
   "metadata": {},
   "source": [
    "# Generating Classification report"
   ]
  },
  {
   "cell_type": "code",
   "execution_count": 15,
   "id": "cbc7b68b",
   "metadata": {},
   "outputs": [
    {
     "name": "stdout",
     "output_type": "stream",
     "text": [
      "              precision    recall  f1-score   support\n",
      "\n",
      "         cat       0.91      0.93      0.92     12499\n",
      "         dog       0.93      0.90      0.92     12499\n",
      "\n",
      "    accuracy                           0.92     24998\n",
      "   macro avg       0.92      0.92      0.92     24998\n",
      "weighted avg       0.92      0.92      0.92     24998\n",
      "\n"
     ]
    }
   ],
   "source": [
    "from sklearn.metrics import classification_report\n",
    "\n",
    "# Print classification report\n",
    "class_labels = list(test_generator.class_indices.keys())\n",
    "report = classification_report(y_true, y_pred_classes, target_names=class_labels)\n",
    "print(report)"
   ]
  },
  {
   "cell_type": "markdown",
   "id": "958cad26",
   "metadata": {},
   "source": [
    "# Saving the model"
   ]
  },
  {
   "cell_type": "code",
   "execution_count": 16,
   "id": "e15d10b3",
   "metadata": {
    "scrolled": true
   },
   "outputs": [
    {
     "name": "stderr",
     "output_type": "stream",
     "text": [
      "C:\\Users\\anasj\\anaconda3\\lib\\site-packages\\keras\\src\\engine\\training.py:3000: UserWarning: You are saving your model as an HDF5 file via `model.save()`. This file format is considered legacy. We recommend using instead the native Keras format, e.g. `model.save('my_model.keras')`.\n",
      "  saving_api.save_model(\n"
     ]
    }
   ],
   "source": [
    "model.save(\"cats_vs_dogs_model.h5\")"
   ]
  },
  {
   "cell_type": "code",
   "execution_count": null,
   "id": "050cad74",
   "metadata": {},
   "outputs": [],
   "source": []
  }
 ],
 "metadata": {
  "kernelspec": {
   "display_name": "Python 3 (ipykernel)",
   "language": "python",
   "name": "python3"
  },
  "language_info": {
   "codemirror_mode": {
    "name": "ipython",
    "version": 3
   },
   "file_extension": ".py",
   "mimetype": "text/x-python",
   "name": "python",
   "nbconvert_exporter": "python",
   "pygments_lexer": "ipython3",
   "version": "3.10.9"
  }
 },
 "nbformat": 4,
 "nbformat_minor": 5
}
