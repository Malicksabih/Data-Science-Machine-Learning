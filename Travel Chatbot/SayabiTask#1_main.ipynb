{
 "cells": [
  {
   "cell_type": "markdown",
   "id": "88308bf7",
   "metadata": {},
   "source": [
    "# Importing Libraries and Loading Data:\n"
   ]
  },
  {
   "cell_type": "markdown",
   "id": "b5726564",
   "metadata": {},
   "source": [
    "This section imports the necessary libraries, downloads NLTK data, initializes a WordNetLemmatizer, loads and preprocesses the dataset, tokenizes sentences, and calculates the TF-IDF matrix for the text data."
   ]
  },
  {
   "cell_type": "code",
   "execution_count": 115,
   "id": "fdd1e1c4",
   "metadata": {},
   "outputs": [],
   "source": [
    "# Import necessary libraries\n",
    "import random\n",
    "import string\n",
    "import nltk\n",
    "from sklearn.feature_extraction.text import TfidfVectorizer\n",
    "from sklearn.metrics.pairwise import cosine_similarity\n",
    "from nltk.stem import WordNetLemmatizer\n",
    "from ipywidgets import widgets, Layout\n",
    "from IPython.display import display, HTML"
   ]
  },
  {
   "cell_type": "code",
   "execution_count": 116,
   "id": "df371a57",
   "metadata": {},
   "outputs": [
    {
     "name": "stderr",
     "output_type": "stream",
     "text": [
      "[nltk_data] Downloading package punkt to\n",
      "[nltk_data]     C:\\Users\\B.Traders\\AppData\\Roaming\\nltk_data...\n",
      "[nltk_data]   Package punkt is already up-to-date!\n",
      "[nltk_data] Downloading package wordnet to\n",
      "[nltk_data]     C:\\Users\\B.Traders\\AppData\\Roaming\\nltk_data...\n",
      "[nltk_data]   Package wordnet is already up-to-date!\n"
     ]
    },
    {
     "data": {
      "text/plain": [
       "True"
      ]
     },
     "execution_count": 116,
     "metadata": {},
     "output_type": "execute_result"
    }
   ],
   "source": [
    "# Load NLTK data\n",
    "nltk.download('popular', quiet=True)\n",
    "nltk.download('punkt')\n",
    "nltk.download('wordnet')"
   ]
  },
  {
   "cell_type": "code",
   "execution_count": 117,
   "id": "03039095",
   "metadata": {},
   "outputs": [],
   "source": [
    "# Initialize WordNetLemmatizer\n",
    "lemmer = WordNetLemmatizer()\n",
    "\n",
    "# Load and preprocess the dataset\n",
    "with open('tourism data.txt', 'r', errors='ignore') as f:\n",
    "    raw_data = f.read().lower()\n",
    "\n",
    "# Tokenize sentences and preprocess tokens\n",
    "sentence_tokens = nltk.sent_tokenize(raw_data)\n",
    "\n",
    "# Lemmatize tokens\n",
    "def LemmedTokens(tokens):\n",
    "    return [lemmer.lemmatize(token) for token in tokens]\n",
    "\n",
    "remove_punct_dict = dict((ord(punct), None) for punct in string.punctuation)\n",
    "\n",
    "# Normalize and lemmatize tokens\n",
    "def NormalizedLemmedTokens(text):\n",
    "    return LemmedTokens(nltk.word_tokenize(text.lower().translate(remove_punct_dict)))\n",
    "\n",
    "# Calculate TF-IDF matrix\n",
    "TfidfVec = TfidfVectorizer(tokenizer=NormalizedLemmedTokens, stop_words='english')\n",
    "tfidf = TfidfVec.fit_transform(sentence_tokens)\n"
   ]
  },
  {
   "cell_type": "markdown",
   "id": "785614d1",
   "metadata": {},
   "source": [
    "# Defining Response Generation Function:"
   ]
  },
  {
   "cell_type": "markdown",
   "id": "4585e6e1",
   "metadata": {},
   "source": [
    "This section defines the response function, which generates a response based on user input. It calculates cosine similarity, handles \"tell me about\" queries, and matches keywords to sentences in the dataset."
   ]
  },
  {
   "cell_type": "code",
   "execution_count": 118,
   "id": "49cbc59f",
   "metadata": {},
   "outputs": [],
   "source": [
    "def response(user_response):\n",
    "    user_response = user_response.lower()\n",
    "    sentence_tokens.append(user_response)\n",
    "    tfidf = TfidfVec.fit_transform(sentence_tokens)\n",
    "    vals = cosine_similarity(tfidf[-1], tfidf)\n",
    "    idx = vals.argsort()[0][-2]\n",
    "    flat = vals.flatten()\n",
    "    flat.sort()\n",
    "    req_tfidf = flat[-2]\n",
    "    \n",
    "    if req_tfidf == 0:\n",
    "        return \"I am sorry! I don't understand you\"\n",
    "    else:\n",
    "        if 'tell me about' in user_response:\n",
    "            query = user_response.replace('tell me about', '').strip()\n",
    "            for sentence in sentence_tokens:\n",
    "                if query in sentence:\n",
    "                    return sentence\n",
    "        else:\n",
    "            matches = [sentence for sentence in sentence_tokens if any(keyword in sentence for keyword in user_response.split())]\n",
    "            if matches:\n",
    "                return random.choice(matches)\n",
    "            else:\n",
    "                return \"I am sorry! I don't have information about that destination.\"\n"
   ]
  },
  {
   "cell_type": "markdown",
   "id": "b23eaa30",
   "metadata": {},
   "source": [
    "# Defining Greeting and Farewell Functions:"
   ]
  },
  {
   "cell_type": "markdown",
   "id": "3faf7936",
   "metadata": {},
   "source": [
    "This section defines functions for greeting the user and bidding farewell."
   ]
  },
  {
   "cell_type": "code",
   "execution_count": 119,
   "id": "c4604ad3",
   "metadata": {},
   "outputs": [],
   "source": [
    "def greet_user():\n",
    "    responses = [\"Hello! I'm your TravelBot. How can I help you today?\",\n",
    "                 \"Hi there! Welcome to TravelBot. What would you like to know?\",\n",
    "                 \"Greetings! I'm TravelBot. Feel free to ask me about travel destinations.\"]\n",
    "    return random.choice(responses)\n",
    "\n",
    "def farewell():\n",
    "    return \"Goodbye! Have a great day and safe travels!\"\n"
   ]
  },
  {
   "cell_type": "markdown",
   "id": "f475267d",
   "metadata": {},
   "source": [
    "# Creating User Interface:"
   ]
  },
  {
   "cell_type": "markdown",
   "id": "24643124",
   "metadata": {},
   "source": [
    "This section creates the user interface elements using the ipywidgets library for displaying output, taking user input, and sending messages."
   ]
  },
  {
   "cell_type": "code",
   "execution_count": 120,
   "id": "4cc1279e",
   "metadata": {},
   "outputs": [],
   "source": [
    "html_output = widgets.Output()\n",
    "html_output.layout.width = '600px'\n",
    "html_output.layout.border = '1px solid #ccc'\n",
    "html_output.layout.padding = '10px'\n",
    "\n",
    "user_input = widgets.Text(placeholder='Type your message...', layout=Layout(width='80%'))\n",
    "send_button = widgets.Button(description='Send', button_style='success', layout=Layout(width='20%'))\n",
    "user_input_box = widgets.HBox([user_input, send_button])\n"
   ]
  },
  {
   "cell_type": "markdown",
   "id": "98c7436b",
   "metadata": {},
   "source": [
    "# Defining Message Sending and Receiving Function:"
   ]
  },
  {
   "cell_type": "markdown",
   "id": "21995422",
   "metadata": {},
   "source": [
    "This section defines the send_message function, which processes user input, generates responses, and displays the conversation in the HTML output area."
   ]
  },
  {
   "cell_type": "code",
   "execution_count": 121,
   "id": "f17fef31",
   "metadata": {},
   "outputs": [],
   "source": [
    "def send_message(button):\n",
    "    user_message = user_input.value\n",
    "    user_input.value = ''  # Reset the input text\n",
    "    with html_output:\n",
    "        display(HTML(f'<p><strong>You:</strong> {user_message}</p>'))\n",
    "        \n",
    "        if user_message.lower() == 'bye':\n",
    "            print(\"TravelBot:\", farewell())\n",
    "            user_input.disabled = True\n",
    "            send_button.disabled = True\n",
    "        elif any(greeting_word in user_message.lower() for greeting_word in [\"hello\", \"hi\", \"greetings\", \"sup\", \"what's up\",\"hey\"]):\n",
    "            greeting_response = greet_user()\n",
    "            display(HTML(f'<p><strong>TravelBot:</strong> {greeting_response}</p>'))\n",
    "        else:\n",
    "            bot_response = response(user_message)\n",
    "            display(HTML(f'<p><strong>TravelBot:</strong> {bot_response}</p>'))\n",
    "\n",
    "send_button.on_click(send_message)\n"
   ]
  },
  {
   "cell_type": "markdown",
   "id": "c2b4c1e7",
   "metadata": {},
   "source": [
    "# Displaying Interface:\n"
   ]
  },
  {
   "cell_type": "markdown",
   "id": "b7d5d434",
   "metadata": {},
   "source": [
    "This section displays the initial greeting message and the user interface "
   ]
  },
  {
   "cell_type": "code",
   "execution_count": 122,
   "id": "9afe16e7",
   "metadata": {},
   "outputs": [
    {
     "data": {
      "application/vnd.jupyter.widget-view+json": {
       "model_id": "6e154b9ba947492f9aa36232c5ff0453",
       "version_major": 2,
       "version_minor": 0
      },
      "text/plain": [
       "Output(layout=Layout(border='1px solid #ccc', padding='10px', width='600px'))"
      ]
     },
     "metadata": {},
     "output_type": "display_data"
    },
    {
     "data": {
      "application/vnd.jupyter.widget-view+json": {
       "model_id": "8fdad4a76b5840bd82187d00e6546397",
       "version_major": 2,
       "version_minor": 0
      },
      "text/plain": [
       "HBox(children=(Text(value='', layout=Layout(width='80%'), placeholder='Type your message...'), Button(button_s…"
      ]
     },
     "metadata": {},
     "output_type": "display_data"
    }
   ],
   "source": [
    "init_message = greet_user()\n",
    "with html_output:\n",
    "    display(HTML(f'<p><strong>TravelBot:</strong> {init_message}</p>'))\n",
    "\n",
    "display(html_output)\n",
    "display(user_input_box)\n"
   ]
  },
  {
   "cell_type": "code",
   "execution_count": null,
   "id": "13b79bb9",
   "metadata": {},
   "outputs": [],
   "source": []
  }
 ],
 "metadata": {
  "kernelspec": {
   "display_name": "Python 3 (ipykernel)",
   "language": "python",
   "name": "python3"
  },
  "language_info": {
   "codemirror_mode": {
    "name": "ipython",
    "version": 3
   },
   "file_extension": ".py",
   "mimetype": "text/x-python",
   "name": "python",
   "nbconvert_exporter": "python",
   "pygments_lexer": "ipython3",
   "version": "3.9.12"
  }
 },
 "nbformat": 4,
 "nbformat_minor": 5
}
